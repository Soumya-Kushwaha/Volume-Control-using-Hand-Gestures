{
 "cells": [
  {
   "cell_type": "code",
   "execution_count": 1,
   "id": "ae3f1e15",
   "metadata": {},
   "outputs": [
    {
     "name": "stdout",
     "output_type": "stream",
     "text": [
      "Requirement already satisfied: opencv-python in c:\\users\\kushw\\anaconda3\\lib\\site-packages (4.6.0.66)\n",
      "Requirement already satisfied: numpy>=1.14.5 in c:\\users\\kushw\\anaconda3\\lib\\site-packages (from opencv-python) (1.21.5)\n",
      "Note: you may need to restart the kernel to use updated packages.\n"
     ]
    }
   ],
   "source": [
    "pip install opencv-python"
   ]
  },
  {
   "cell_type": "code",
   "execution_count": 2,
   "id": "b991d80d",
   "metadata": {},
   "outputs": [
    {
     "name": "stdout",
     "output_type": "stream",
     "text": [
      "Requirement already satisfied: pycaw in c:\\users\\kushw\\anaconda3\\lib\\site-packages (20220416)\n",
      "Requirement already satisfied: psutil in c:\\users\\kushw\\anaconda3\\lib\\site-packages (from pycaw) (5.8.0)\n",
      "Requirement already satisfied: comtypes in c:\\users\\kushw\\anaconda3\\lib\\site-packages (from pycaw) (1.1.10)\n",
      "Note: you may need to restart the kernel to use updated packages.\n"
     ]
    }
   ],
   "source": [
    "pip install pycaw"
   ]
  },
  {
   "cell_type": "code",
   "execution_count": 3,
   "id": "42ef552e",
   "metadata": {},
   "outputs": [],
   "source": [
    "import cv2\n",
    "import math\n",
    "import numpy as np\n",
    "from ctypes import cast, POINTER\n",
    "from comtypes import CLSCTX_ALL\n",
    "from pycaw.pycaw import AudioUtilities, IAudioEndpointVolume"
   ]
  },
  {
   "cell_type": "code",
   "execution_count": 4,
   "id": "c6b35243",
   "metadata": {},
   "outputs": [
    {
     "name": "stdout",
     "output_type": "stream",
     "text": [
      "Requirement already satisfied: protobuf==3.20 in c:\\users\\kushw\\appdata\\roaming\\python\\python39\\site-packages (3.20.0)Note: you may need to restart the kernel to use updated packages.\n",
      "\n"
     ]
    }
   ],
   "source": [
    "pip install --upgrade protobuf==3.20 --user"
   ]
  },
  {
   "cell_type": "code",
   "execution_count": 5,
   "id": "aa130941",
   "metadata": {},
   "outputs": [
    {
     "name": "stdout",
     "output_type": "stream",
     "text": [
      "Requirement already satisfied: mediapipe in c:\\users\\kushw\\appdata\\roaming\\python\\python39\\site-packages (0.9.0)\n",
      "Requirement already satisfied: absl-py in c:\\users\\kushw\\appdata\\roaming\\python\\python39\\site-packages (from mediapipe) (1.3.0)\n",
      "Requirement already satisfied: flatbuffers>=2.0 in c:\\users\\kushw\\appdata\\roaming\\python\\python39\\site-packages (from mediapipe) (22.10.26)\n",
      "Requirement already satisfied: opencv-contrib-python in c:\\users\\kushw\\appdata\\roaming\\python\\python39\\site-packages (from mediapipe) (4.6.0.66)\n",
      "Note: you may need to restart the kernel to use updated packages.Requirement already satisfied: numpy in c:\\users\\kushw\\anaconda3\\lib\\site-packages (from mediapipe) (1.21.5)\n",
      "Requirement already satisfied: matplotlib in c:\\users\\kushw\\anaconda3\\lib\\site-packages (from mediapipe) (3.5.1)\n",
      "Requirement already satisfied: attrs>=19.1.0 in c:\\users\\kushw\\anaconda3\\lib\\site-packages (from mediapipe) (21.4.0)\n",
      "Requirement already satisfied: protobuf<4,>=3.11 in c:\\users\\kushw\\appdata\\roaming\\python\\python39\\site-packages (from mediapipe) (3.20.0)\n",
      "\n",
      "Requirement already satisfied: python-dateutil>=2.7 in c:\\users\\kushw\\anaconda3\\lib\\site-packages (from matplotlib->mediapipe) (2.8.2)\n",
      "Requirement already satisfied: pillow>=6.2.0 in c:\\users\\kushw\\anaconda3\\lib\\site-packages (from matplotlib->mediapipe) (9.0.1)\n",
      "Requirement already satisfied: fonttools>=4.22.0 in c:\\users\\kushw\\anaconda3\\lib\\site-packages (from matplotlib->mediapipe) (4.25.0)\n",
      "Requirement already satisfied: packaging>=20.0 in c:\\users\\kushw\\anaconda3\\lib\\site-packages (from matplotlib->mediapipe) (21.3)\n",
      "Requirement already satisfied: pyparsing>=2.2.1 in c:\\users\\kushw\\anaconda3\\lib\\site-packages (from matplotlib->mediapipe) (3.0.4)\n",
      "Requirement already satisfied: kiwisolver>=1.0.1 in c:\\users\\kushw\\anaconda3\\lib\\site-packages (from matplotlib->mediapipe) (1.3.2)\n",
      "Requirement already satisfied: cycler>=0.10 in c:\\users\\kushw\\anaconda3\\lib\\site-packages (from matplotlib->mediapipe) (0.11.0)\n",
      "Requirement already satisfied: six>=1.5 in c:\\users\\kushw\\anaconda3\\lib\\site-packages (from python-dateutil>=2.7->matplotlib->mediapipe) (1.16.0)\n"
     ]
    }
   ],
   "source": [
    "pip install mediapipe --user"
   ]
  },
  {
   "cell_type": "code",
   "execution_count": 6,
   "id": "87090d7b",
   "metadata": {},
   "outputs": [],
   "source": [
    "import mediapipe as mp"
   ]
  },
  {
   "cell_type": "code",
   "execution_count": 7,
   "id": "8138818d",
   "metadata": {},
   "outputs": [],
   "source": [
    "cap = cv2.VideoCapture(0) #for laptop's camera"
   ]
  },
  {
   "cell_type": "code",
   "execution_count": 8,
   "id": "cfb780a2",
   "metadata": {},
   "outputs": [],
   "source": [
    "mpHands= mp.solutions.hands\n",
    "hands = mpHands.Hands()\n",
    "mpDraws = mp.solutions.drawing_utils\n",
    "devices = AudioUtilities.GetSpeakers()\n",
    "interface = devices.Activate(IAudioEndpointVolume._iid_, CLSCTX_ALL, None)\n",
    "volume = cast(interface, POINTER(IAudioEndpointVolume))\n",
    "\n",
    "volRange = volume.GetVolumeRange()\n",
    "minVol = volRange[0]\n",
    "maxVol = volRange[1]"
   ]
  },
  {
   "cell_type": "code",
   "execution_count": 9,
   "id": "0aa9969a",
   "metadata": {},
   "outputs": [
    {
     "name": "stdout",
     "output_type": "stream",
     "text": [
      "45 -65.25\n",
      "50 -65.00692383231029\n",
      "31 -65.25\n",
      "53 -64.32735579784557\n",
      "60 -62.53162500445909\n",
      "64 -61.49030315561878\n",
      "66 -61.02463890391868\n",
      "67 -60.78186354088997\n",
      "68 -60.54432518883048\n",
      "67 -60.65014637454463\n",
      "66 -60.883260551986204\n",
      "71 -59.54246911238049\n",
      "71 -59.63530621735251\n",
      "72 -59.347373981424106\n",
      "71 -59.54246911238049\n",
      "70 -59.87961181190798\n",
      "77 -58.04095202138067\n",
      "69 -60.2230412679566\n",
      "82 -56.82015984696348\n",
      "81 -57.02890031051521\n",
      "91 -54.5432644287983\n",
      "87 -55.44349219587559\n",
      "103 -51.35246096579504\n",
      "104 -51.05080001174346\n",
      "100 -52.12572069760086\n",
      "101 -51.888656982273694\n",
      "98 -52.54417933747791\n",
      "101 -51.87576396563185\n",
      "93 -54.01437425142189\n",
      "100 -52.17652056099724\n",
      "98 -52.561376785072596\n",
      "96 -53.000495736082094\n",
      "84 -56.344950558015135\n",
      "88 -55.26536371027318\n",
      "80 -57.16061117250548\n",
      "90 -54.64815753477121\n",
      "88 -55.32606894760934\n",
      "79 -57.49517281975166\n",
      "84 -56.33564428443211\n",
      "82 -56.84078379809738\n",
      "83 -56.593020546377254\n",
      "80 -57.2494155663079\n",
      "82 -56.73154365746125\n",
      "84 -56.24434174639079\n",
      "85 -56.05367299979612\n",
      "82 -56.73154365746125\n",
      "83 -56.53660612404398\n",
      "79 -57.45918677210508\n",
      "70 -59.940732367547994\n",
      "75 -58.4743053085144\n",
      "74 -58.73892495285599\n",
      "74 -58.899780284749355\n",
      "76 -58.40056852570908\n",
      "73 -59.22556000822043\n",
      "67 -60.764373578340575\n",
      "64 -61.397353047525364\n",
      "70 -59.81132297864447\n",
      "71 -59.54973384188907\n",
      "75 -58.57247423015243\n",
      "70 -59.81316530608876\n",
      "78 -57.90021595702543\n",
      "77 -58.15052953549399\n",
      "77 -57.97213769231993\n",
      "78 -57.825219561616784\n",
      "68 -60.4448528429475\n",
      "73 -59.182752159371894\n",
      "72 -59.29891318897785\n",
      "70 -59.974156772470195\n",
      "72 -59.3977608469261\n",
      "73 -59.11694388268647\n",
      "70 -60.00019573875174\n",
      "74 -58.873462995170755\n",
      "84 -56.21193530433234\n",
      "81 -57.08020240435833\n",
      "89 -54.9963390858861\n",
      "91 -54.371836572774754\n",
      "91 -54.433123329601756\n",
      "98 -52.59315614471508\n",
      "96 -53.16527991005271\n",
      "100 -51.96485426279171\n",
      "98 -52.54417933747791\n",
      "80 -57.35973073239028\n",
      "64 -61.36112010787018\n",
      "67 -60.78186354088997\n",
      "67 -60.65593669247359\n",
      "64 -61.504492832903196\n",
      "63 -61.79291061392106\n",
      "60 -62.44545837937911\n",
      "60 -62.518670018024466\n",
      "66 -60.85199871045397\n",
      "43 -65.25\n",
      "15 -65.25\n"
     ]
    },
    {
     "ename": "KeyboardInterrupt",
     "evalue": "",
     "output_type": "error",
     "traceback": [
      "\u001b[1;31m---------------------------------------------------------------------------\u001b[0m",
      "\u001b[1;31mKeyboardInterrupt\u001b[0m                         Traceback (most recent call last)",
      "Input \u001b[1;32mIn [9]\u001b[0m, in \u001b[0;36m<cell line: 2>\u001b[1;34m()\u001b[0m\n\u001b[0;32m      2\u001b[0m success, img\u001b[38;5;241m=\u001b[39m cap\u001b[38;5;241m.\u001b[39mread()\n\u001b[0;32m      3\u001b[0m imgRGB \u001b[38;5;241m=\u001b[39m cv2\u001b[38;5;241m.\u001b[39mcvtColor(img, cv2\u001b[38;5;241m.\u001b[39mCOLOR_BGR2RGB)\n\u001b[1;32m----> 4\u001b[0m results \u001b[38;5;241m=\u001b[39m \u001b[43mhands\u001b[49m\u001b[38;5;241;43m.\u001b[39;49m\u001b[43mprocess\u001b[49m\u001b[43m(\u001b[49m\u001b[43mimgRGB\u001b[49m\u001b[43m)\u001b[49m\n\u001b[0;32m      5\u001b[0m \u001b[38;5;66;03m#print(results.multi_hand_landmarks)\u001b[39;00m\n\u001b[0;32m      7\u001b[0m \u001b[38;5;28;01mif\u001b[39;00m results\u001b[38;5;241m.\u001b[39mmulti_hand_landmarks:\n",
      "File \u001b[1;32m~\\AppData\\Roaming\\Python\\Python39\\site-packages\\mediapipe\\python\\solutions\\hands.py:153\u001b[0m, in \u001b[0;36mHands.process\u001b[1;34m(self, image)\u001b[0m\n\u001b[0;32m    132\u001b[0m \u001b[38;5;28;01mdef\u001b[39;00m \u001b[38;5;21mprocess\u001b[39m(\u001b[38;5;28mself\u001b[39m, image: np\u001b[38;5;241m.\u001b[39mndarray) \u001b[38;5;241m-\u001b[39m\u001b[38;5;241m>\u001b[39m NamedTuple:\n\u001b[0;32m    133\u001b[0m   \u001b[38;5;124;03m\"\"\"Processes an RGB image and returns the hand landmarks and handedness of each detected hand.\u001b[39;00m\n\u001b[0;32m    134\u001b[0m \n\u001b[0;32m    135\u001b[0m \u001b[38;5;124;03m  Args:\u001b[39;00m\n\u001b[1;32m   (...)\u001b[0m\n\u001b[0;32m    150\u001b[0m \u001b[38;5;124;03m         right hand) of the detected hand.\u001b[39;00m\n\u001b[0;32m    151\u001b[0m \u001b[38;5;124;03m  \"\"\"\u001b[39;00m\n\u001b[1;32m--> 153\u001b[0m   \u001b[38;5;28;01mreturn\u001b[39;00m \u001b[38;5;28;43msuper\u001b[39;49m\u001b[43m(\u001b[49m\u001b[43m)\u001b[49m\u001b[38;5;241;43m.\u001b[39;49m\u001b[43mprocess\u001b[49m\u001b[43m(\u001b[49m\u001b[43minput_data\u001b[49m\u001b[38;5;241;43m=\u001b[39;49m\u001b[43m{\u001b[49m\u001b[38;5;124;43m'\u001b[39;49m\u001b[38;5;124;43mimage\u001b[39;49m\u001b[38;5;124;43m'\u001b[39;49m\u001b[43m:\u001b[49m\u001b[43m \u001b[49m\u001b[43mimage\u001b[49m\u001b[43m}\u001b[49m\u001b[43m)\u001b[49m\n",
      "File \u001b[1;32m~\\AppData\\Roaming\\Python\\Python39\\site-packages\\mediapipe\\python\\solution_base.py:365\u001b[0m, in \u001b[0;36mSolutionBase.process\u001b[1;34m(self, input_data)\u001b[0m\n\u001b[0;32m    359\u001b[0m   \u001b[38;5;28;01melse\u001b[39;00m:\n\u001b[0;32m    360\u001b[0m     \u001b[38;5;28mself\u001b[39m\u001b[38;5;241m.\u001b[39m_graph\u001b[38;5;241m.\u001b[39madd_packet_to_input_stream(\n\u001b[0;32m    361\u001b[0m         stream\u001b[38;5;241m=\u001b[39mstream_name,\n\u001b[0;32m    362\u001b[0m         packet\u001b[38;5;241m=\u001b[39m\u001b[38;5;28mself\u001b[39m\u001b[38;5;241m.\u001b[39m_make_packet(input_stream_type,\n\u001b[0;32m    363\u001b[0m                                  data)\u001b[38;5;241m.\u001b[39mat(\u001b[38;5;28mself\u001b[39m\u001b[38;5;241m.\u001b[39m_simulated_timestamp))\n\u001b[1;32m--> 365\u001b[0m \u001b[38;5;28;43mself\u001b[39;49m\u001b[38;5;241;43m.\u001b[39;49m\u001b[43m_graph\u001b[49m\u001b[38;5;241;43m.\u001b[39;49m\u001b[43mwait_until_idle\u001b[49m\u001b[43m(\u001b[49m\u001b[43m)\u001b[49m\n\u001b[0;32m    366\u001b[0m \u001b[38;5;66;03m# Create a NamedTuple object where the field names are mapping to the graph\u001b[39;00m\n\u001b[0;32m    367\u001b[0m \u001b[38;5;66;03m# output stream names.\u001b[39;00m\n\u001b[0;32m    368\u001b[0m solution_outputs \u001b[38;5;241m=\u001b[39m collections\u001b[38;5;241m.\u001b[39mnamedtuple(\n\u001b[0;32m    369\u001b[0m     \u001b[38;5;124m'\u001b[39m\u001b[38;5;124mSolutionOutputs\u001b[39m\u001b[38;5;124m'\u001b[39m, \u001b[38;5;28mself\u001b[39m\u001b[38;5;241m.\u001b[39m_output_stream_type_info\u001b[38;5;241m.\u001b[39mkeys())\n",
      "\u001b[1;31mKeyboardInterrupt\u001b[0m: "
     ]
    }
   ],
   "source": [
    "while True:\n",
    "    success, img= cap.read()\n",
    "    imgRGB = cv2.cvtColor(img, cv2.COLOR_BGR2RGB)\n",
    "    results = hands.process(imgRGB)\n",
    "    #print(results.multi_hand_landmarks)\n",
    "    \n",
    "    if results.multi_hand_landmarks:\n",
    "        for handLms in results.multi_hand_landmarks:\n",
    "            lmList = []\n",
    "            for id, lm in enumerate (handLms.landmark):\n",
    "                #print(id, lm)\n",
    "                h, w, c = img.shape\n",
    "                cx, cy = int(lm.x*w), int (lm.y*h)\n",
    "                #print(id,cx,cy)\n",
    "                lmList.append([id, cx, cy])\n",
    "                #print(lmList)\n",
    "            mpDraws.draw_landmarks(img , handLms , mpHands.HAND_CONNECTIONS)\n",
    "        if lmList:\n",
    "            x1 , y1 = lmList[4][1] , lmList[4][2]\n",
    "            x2 , y2 = lmList[8][1] , lmList[8][2]\n",
    "            cv2.circle(img , (x1 ,y1) ,15 , (255,0,255) ,cv2.FILLED)\n",
    "            cv2.circle(img , (x2 ,y2) ,15 , (255,0,255) ,cv2.FILLED)\n",
    "            cv2.line(img, (x1,y1) , (x2,y2) , (255 , 0, 255) ,3)\n",
    "            \n",
    "            z1 = (x1 + x2)//2\n",
    "            z2 = (y1 + y2)//2\n",
    "            \n",
    "            cv2.circle(img , (z1,z2),15 ,(255,0,0) , cv2.FILLED )\n",
    "\n",
    "            length = math.hypot(x2- x1 , y2- y1)\n",
    "            #print(length)\n",
    "            \n",
    "            if length < 50:\n",
    "                    cv2.circle(img , (z1 , z2) ,15 ,(255,255,255) , cv2.FILLED)\n",
    "        vol = np.interp(length , [50 ,300] ,[minVol ,maxVol])\n",
    "        volBar = np.interp(length , [50,300] ,[400 ,150])\n",
    "        volPer = np.interp(length , [50 , 300] , [0,100])\n",
    "        #print(vol)\n",
    "        print(int(length) , vol)\n",
    "        #print(volume.GetVolumeRange())\n",
    "        volume.SetMasterVolumeLevel(vol, None)\n",
    "        \n",
    "        cv2.rectangle(img ,(50,150) , (85,400) ,(0,255,0) , 3)\n",
    "        cv2.rectangle(img ,(50,int(volBar)) , (85,400) ,(0,255,0) , cv2.FILLED)\n",
    "        cv2.putText(img , f'{int(volPer)}%', (40,450) ,cv2.FONT_HERSHEY_PLAIN,3 ,(0,255,255) ,3)\n",
    "    cv2.imshow(\"Image\",img)\n",
    "    cv2.waitKey(1)"
   ]
  }
 ],
 "metadata": {
  "kernelspec": {
   "display_name": "Python 3 (ipykernel)",
   "language": "python",
   "name": "python3"
  },
  "language_info": {
   "codemirror_mode": {
    "name": "ipython",
    "version": 3
   },
   "file_extension": ".py",
   "mimetype": "text/x-python",
   "name": "python",
   "nbconvert_exporter": "python",
   "pygments_lexer": "ipython3",
   "version": "3.9.12"
  }
 },
 "nbformat": 4,
 "nbformat_minor": 5
}
